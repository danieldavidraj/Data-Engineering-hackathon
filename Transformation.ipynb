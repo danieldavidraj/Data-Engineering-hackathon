{
 "cells": [
  {
   "cell_type": "code",
   "execution_count": 0,
   "metadata": {
    "application/vnd.databricks.v1+cell": {
     "cellMetadata": {
      "byteLimit": 2048000,
      "rowLimit": 10000
     },
     "inputWidgets": {},
     "nuid": "4ad5c699-010e-4c08-ad40-88873a6f1ca9",
     "showTitle": false,
     "title": ""
    }
   },
   "outputs": [],
   "source": [
    "depth = dbutils.widgets.get(\"depth\")\n",
    "dimensions = dbutils.widgets.get(\"dimensions\")\n",
    "kpis = dbutils.widgets.get(\"kpis\")\n",
    "granularity = dbutils.widgets.get(\"granularity\")\n",
    "source = dbutils.widgets.get(\"source\")"
   ]
  },
  {
   "cell_type": "code",
   "execution_count": 0,
   "metadata": {
    "application/vnd.databricks.v1+cell": {
     "cellMetadata": {
      "byteLimit": 2048000,
      "rowLimit": 10000
     },
     "inputWidgets": {},
     "nuid": "f84c6e9b-457c-4286-9062-79dea49b22aa",
     "showTitle": false,
     "title": ""
    }
   },
   "outputs": [
    {
     "output_type": "stream",
     "name": "stdout",
     "output_type": "stream",
     "text": [
      "{'source': {'start_date': '25/07/2017', 'end_date': '26/07/2017'}, 'granularity': 'daily', 'kpis': [{'name': 'Users count', 'sql': 'approx_count_distinct(fullVisitorId, 0.03)'}, {'name': 'Bounce count', 'sql': 'sum(totals.bounces)'}, {'name': 'Conversion rate', 'sql': '(sum(totals.transactions)/count(*))*100'}], 'dimensions': ['geoNetwork.country', 'device.browser', 'device.deviceCategory', 'device.operatingSystem'], 'depth': 2}\n"
     ]
    }
   ],
   "source": [
    "import json\n",
    "\n",
    "job_config = {\n",
    "    \"source\": json.loads(source),\n",
    "    \"granularity\": granularity,\n",
    "    \"kpis\": json.loads(kpis),\n",
    "    \"dimensions\": json.loads(dimensions),\n",
    "    \"depth\": int(depth)\n",
    "}\n",
    "# hourly, daily, weekly, monthly, quarterly, and yearly.\n",
    "print(job_config)"
   ]
  },
  {
   "cell_type": "code",
   "execution_count": 0,
   "metadata": {
    "application/vnd.databricks.v1+cell": {
     "cellMetadata": {
      "byteLimit": 2048000,
      "rowLimit": 10000
     },
     "inputWidgets": {},
     "nuid": "67b4a717-5c31-413a-8462-1895b601c8b8",
     "showTitle": false,
     "title": ""
    }
   },
   "outputs": [],
   "source": [
    "import configparser\n",
    "\n",
    "db_properties={}\n",
    "config = configparser.ConfigParser()\n",
    "config.read(\"db_properties.ini\")\n",
    "db_prop = config['postgresql']\n",
    "db_properties['user']=db_prop['user']\n",
    "db_properties['password']=db_prop['password']\n",
    "db_properties['url']=db_prop['url']\n",
    "db_properties['dbtable']=db_prop['dbtable']\n",
    "db_properties['driver']=db_prop['driver']"
   ]
  },
  {
   "cell_type": "code",
   "execution_count": 0,
   "metadata": {
    "application/vnd.databricks.v1+cell": {
     "cellMetadata": {
      "byteLimit": 2048000,
      "rowLimit": 10000
     },
     "inputWidgets": {},
     "nuid": "392a2216-1f83-4e05-b905-918112e870ce",
     "showTitle": false,
     "title": ""
    }
   },
   "outputs": [],
   "source": [
    "from datetime import date, timedelta\n",
    "from datetime import datetime\n",
    "\n",
    "def daterange(start_date, end_date):\n",
    "    for n in range(int((end_date - start_date).days)):\n",
    "        yield start_date + timedelta(n)\n",
    "\n",
    "def get_dataset_for_date(date):\n",
    "    table = f'bigquery-public-data.google_analytics_sample.ga_sessions_{date}'\n",
    "    return spark.read.format(\"bigquery\") \\\n",
    "            .option(\"table\",table) \\\n",
    "            .option(\"project\", 'daniel-343806') \\\n",
    "            .option(\"parentProject\", 'daniel-343806') \\\n",
    "            .load() \\\n",
    "            .limit(10)\n",
    "\n",
    "def get_dataset_for_range(start_date, end_date):\n",
    "    df = get_dataset_for_date(start_date.strftime(\"%Y%m%d\"))\n",
    "    for single_date in daterange(start_date + timedelta(days=1), end_date + timedelta(days=1)):\n",
    "        df = df.union(get_dataset_for_date(single_date.strftime(\"%Y%m%d\")))\n",
    "    return df "
   ]
  },
  {
   "cell_type": "code",
   "execution_count": 0,
   "metadata": {
    "application/vnd.databricks.v1+cell": {
     "cellMetadata": {
      "byteLimit": 2048000,
      "rowLimit": 10000
     },
     "inputWidgets": {},
     "nuid": "4d0fc3cc-9a7a-4655-a1cd-4f1ce8e96143",
     "showTitle": false,
     "title": ""
    }
   },
   "outputs": [
    {
     "output_type": "stream",
     "name": "stdout",
     "output_type": "stream",
     "text": [
      "+-------------------+-------------------+---------------+------+--------------------+\n|         start_date|           end_date|    aggregation|metric|          dimensions|\n+-------------------+-------------------+---------------+------+--------------------+\n|2017-07-25 00:00:00|2017-07-26 00:00:00|    Users count|   1.0|                  []|\n|2017-07-26 00:00:00|2017-07-27 00:00:00|    Users count|   1.0|                  []|\n|2017-07-25 00:00:00|2017-07-26 00:00:00|   Bounce count|   0.0|                  []|\n|2017-07-26 00:00:00|2017-07-27 00:00:00|   Bounce count|   0.0|                  []|\n|2017-07-25 00:00:00|2017-07-26 00:00:00|Conversion rate|   0.0|                  []|\n|2017-07-26 00:00:00|2017-07-27 00:00:00|Conversion rate|   0.0|                  []|\n|2017-07-25 00:00:00|2017-07-26 00:00:00|    Users count|   1.0|[geoNetwork.count...|\n|2017-07-26 00:00:00|2017-07-27 00:00:00|    Users count|   1.0|[geoNetwork.count...|\n|2017-07-25 00:00:00|2017-07-26 00:00:00|   Bounce count|   0.0|[geoNetwork.count...|\n|2017-07-26 00:00:00|2017-07-27 00:00:00|   Bounce count|   0.0|[geoNetwork.count...|\n|2017-07-25 00:00:00|2017-07-26 00:00:00|Conversion rate|   0.0|[geoNetwork.count...|\n|2017-07-26 00:00:00|2017-07-27 00:00:00|Conversion rate|   0.0|[geoNetwork.count...|\n|2017-07-25 00:00:00|2017-07-26 00:00:00|    Users count|   1.0|[device.browser=C...|\n|2017-07-26 00:00:00|2017-07-27 00:00:00|    Users count|   1.0|[device.browser=C...|\n|2017-07-25 00:00:00|2017-07-26 00:00:00|   Bounce count|   0.0|[device.browser=C...|\n|2017-07-26 00:00:00|2017-07-27 00:00:00|   Bounce count|   0.0|[device.browser=C...|\n|2017-07-25 00:00:00|2017-07-26 00:00:00|Conversion rate|   0.0|[device.browser=C...|\n|2017-07-26 00:00:00|2017-07-27 00:00:00|Conversion rate|   0.0|[device.browser=C...|\n|2017-07-25 00:00:00|2017-07-26 00:00:00|    Users count|   1.0|[device.deviceCat...|\n|2017-07-26 00:00:00|2017-07-27 00:00:00|    Users count|   1.0|[device.deviceCat...|\n+-------------------+-------------------+---------------+------+--------------------+\nonly showing top 20 rows\n\n"
     ]
    }
   ],
   "source": [
    "from pyspark.sql import SparkSession\n",
    "from pyspark.sql.functions import *\n",
    "from itertools import combinations\n",
    "from pyspark.sql.types import *\n",
    "\n",
    "# Initialize a Spark session\n",
    "spark = SparkSession.builder.appName(\"DataAggregation\").getOrCreate()\n",
    "\n",
    "start_date = datetime.strptime(job_config[\"source\"][\"start_date\"], '%d/%m/%Y')\n",
    "end_date = datetime.strptime(job_config[\"source\"][\"end_date\"], '%d/%m/%Y')\n",
    "df = get_dataset_for_range(start_date, end_date)\n",
    "\n",
    "# Convert the \"timestamp\" column to a timestamp type\n",
    "df = df.withColumn(\"timestamp\", to_timestamp(col(\"date\"), \"yyyyMMdd\"))\n",
    "\n",
    "dimensions = [com for sub in range(-1, job_config[\"depth\"]) for com in combinations(job_config[\"dimensions\"], sub + 1)]\n",
    "\n",
    "emp_RDD = spark.sparkContext.emptyRDD()\n",
    "columns = StructType([\n",
    "            StructField(\"start_date\", TimestampType(), True),\n",
    "            StructField(\"end_date\", TimestampType(), True),\n",
    "            StructField('aggregation', StringType(), True),\n",
    "            StructField('metric', IntegerType(), True),\n",
    "            StructField('dimensions', StringType(), True),\n",
    "        ])\n",
    "data = spark.createDataFrame(data = emp_RDD, schema = columns)\n",
    "\n",
    "for dimension in dimensions:\n",
    "    for kpi in job_config[\"kpis\"]:\n",
    "        window_interval = \"1 day\"\n",
    "        if job_config[\"granularity\"] == \"weekly\":\n",
    "            window_interval = \"7 days\"\n",
    "        elif job_config[\"granularity\"] == \"monthly\":\n",
    "            window_interval = \"30 days\"\n",
    "        elif job_config[\"granularity\"] == \"quarterly\":\n",
    "            window_interval = \"91 days\"\n",
    "        elif job_config[\"granularity\"] == \"yearly\":\n",
    "            window_interval = \"365 days\"\n",
    "        df_grouped = df.groupBy(window(\"timestamp\", window_interval).alias(\"timestamp\"), *dimension) \\\n",
    "                        .agg(\n",
    "                            coalesce(expr(kpi[\"sql\"]), lit(0)) \\\n",
    "                            .alias(kpi[\"name\"])\n",
    "                        ) \\\n",
    "                        .withColumn(\"start_date\", to_timestamp(col(\"timestamp.start\"))) \\\n",
    "                        .withColumn(\"end_date\", to_timestamp(col(\"timestamp.end\"))) \\\n",
    "                        .withColumn(\"dimensions\", concat(\n",
    "                            lit(\"[\"),\n",
    "                            concat_ws(\", \",\n",
    "                                *[concat_ws(\"=\", lit(d), col(d.split('.')[-1])) for d in dimension]\n",
    "                            ),\n",
    "                            lit(\"]\")\n",
    "                        )) \\\n",
    "                        .withColumn(\"aggregation\", lit(kpi[\"name\"])) \\\n",
    "                        .withColumn(\"metric\", col(kpi[\"name\"])) \\\n",
    "                        .select(\"start_date\", \"end_date\", \"aggregation\", \"metric\", \"dimensions\")\n",
    "        data = data.union(df_grouped)\n",
    "\n",
    "data.show()\n"
   ]
  },
  {
   "cell_type": "code",
   "execution_count": 0,
   "metadata": {
    "application/vnd.databricks.v1+cell": {
     "cellMetadata": {
      "byteLimit": 2048000,
      "rowLimit": 10000
     },
     "inputWidgets": {},
     "nuid": "6c3d2a4b-d5dc-4f67-ad45-5a673c372b76",
     "showTitle": false,
     "title": ""
    }
   },
   "outputs": [],
   "source": [
    "data.write \\\n",
    "    .jdbc(\n",
    "        url=db_properties['url'], \n",
    "        table=db_properties['dbtable'],\n",
    "        mode='append',\n",
    "        properties=db_properties\n",
    "    )"
   ]
  },
  {
   "cell_type": "code",
   "execution_count": 0,
   "metadata": {
    "application/vnd.databricks.v1+cell": {
     "cellMetadata": {
      "byteLimit": 2048000,
      "rowLimit": 10000
     },
     "inputWidgets": {},
     "nuid": "f0a746d6-f71d-4fc7-ad79-ef600a3b38fa",
     "showTitle": false,
     "title": ""
    }
   },
   "outputs": [
    {
     "output_type": "display_data",
     "data": {
      "text/plain": [
       ""
      ]
     },
     "metadata": {
      "application/vnd.databricks.v1+output": {
       "arguments": {},
       "data": "",
       "errorSummary": "Command skipped",
       "errorTraceType": "ansi",
       "metadata": {},
       "type": "ipynbError"
      }
     },
     "output_type": "display_data"
    }
   ],
   "source": [
    "# spark.read \\\n",
    "#     .jdbc(\n",
    "#         url=db_properties['url'], \n",
    "#         table=db_properties['dbtable'],\n",
    "#         properties=db_properties\n",
    "#     ) \\\n",
    "#     .show()"
   ]
  },
  {
   "cell_type": "code",
   "execution_count": 0,
   "metadata": {
    "application/vnd.databricks.v1+cell": {
     "cellMetadata": {
      "byteLimit": 2048000,
      "rowLimit": 10000
     },
     "inputWidgets": {},
     "nuid": "e6a64a81-42cd-4ed4-83d5-ac66c6e4ca99",
     "showTitle": false,
     "title": ""
    }
   },
   "outputs": [],
   "source": []
  }
 ],
 "metadata": {
  "application/vnd.databricks.v1+notebook": {
   "dashboards": [],
   "language": "python",
   "notebookMetadata": {
    "mostRecentlyExecutedCommandWithImplicitDF": {
     "commandId": -1,
     "dataframes": [
      "_sqldf"
     ]
    },
    "pythonIndentUnit": 4,
    "widgetLayout": []
   },
   "notebookName": "Transformation",
   "widgets": {
    "depth": {
     "currentValue": "",
     "nuid": "94033c02-eb8f-4c6d-898b-63cdca0b8dae",
     "widgetInfo": {
      "widgetType": "text",
      "defaultValue": "2",
      "label": "Depth",
      "name": "depth",
      "options": {
       "widgetType": "text",
       "validationRegex": null
      }
     }
    },
    "dimensions": {
     "currentValue": "",
     "nuid": "8116032c-e88f-4d0d-9b9b-ce2a68b7bbd8",
     "widgetInfo": {
      "widgetType": "text",
      "defaultValue": "[\"geoNetwork.country\",\"device.browser\",\"device.deviceCategory\",\"device.operatingSystem\"]",
      "label": "Dimensions",
      "name": "dimensions",
      "options": {
       "widgetType": "text",
       "validationRegex": null
      }
     }
    },
    "granularity": {
     "currentValue": "daily",
     "nuid": "4f7f404c-0ac6-433f-95c1-eaacd70c33c8",
     "widgetInfo": {
      "widgetType": "text",
      "defaultValue": "daily",
      "label": "Granularity",
      "name": "granularity",
      "options": {
       "widgetType": "text",
       "validationRegex": null
      }
     }
    },
    "greeting": {
     "currentValue": "",
     "nuid": "2cd0292d-6e39-47fb-b471-7e2abbfe86af",
     "widgetInfo": {
      "widgetType": "text",
      "defaultValue": "world",
      "label": "Job Config",
      "name": "greeting",
      "options": {
       "widgetType": "text",
       "validationRegex": null
      }
     }
    },
    "job_config": {
     "currentValue": "",
     "nuid": "dcaccd26-34e1-472a-9cf9-80edb26bd814",
     "widgetInfo": {
      "widgetType": "text",
      "defaultValue": "hi",
      "label": "Job Config",
      "name": "job_config",
      "options": {
       "widgetType": "text",
       "validationRegex": null
      }
     }
    },
    "kpis": {
     "currentValue": "",
     "nuid": "484784cb-7c53-4c7b-ad2b-a6f4529f25bb",
     "widgetInfo": {
      "widgetType": "text",
      "defaultValue": "[{\"name\": \"Users count\",\"sql\": \"approx_count_distinct(fullVisitorId, 0.03)\"},{\"name\": \"Bounce count\",\"sql\": \"sum(totals.bounces)\"},{\"name\": \"Conversion rate\",\"sql\": \"(sum(totals.transactions)/count(*))*100\"}]",
      "label": "KPIS",
      "name": "kpis",
      "options": {
       "widgetType": "text",
       "validationRegex": null
      }
     }
    }
   }
  }
 },
 "nbformat": 4,
 "nbformat_minor": 0
}
